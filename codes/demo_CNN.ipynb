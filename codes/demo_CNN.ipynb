{
 "cells": [
  {
   "cell_type": "markdown",
   "id": "0d58289d-3035-4a74-af15-899eedbb25d0",
   "metadata": {},
   "source": [
    "# Implementing the 2D convolution using two approaches\n",
    "- manually\n",
    "- with the scipy.signal.convolve2d package"
   ]
  },
  {
   "cell_type": "code",
   "execution_count": 1,
   "id": "80a9fa66-b4cb-4834-bbaf-d7efe1ded280",
   "metadata": {},
   "outputs": [
    {
     "name": "stdout",
     "output_type": "stream",
     "text": [
      "Conv2d Implementation:\n",
      " [[11. 25. 32. 13.]\n",
      " [19. 25. 24. 13.]\n",
      " [13. 28. 25. 17.]\n",
      " [11. 17. 14.  9.]]\n",
      "SciPy Results:\n",
      " [[11 25 32 13]\n",
      " [19 25 24 13]\n",
      " [13 28 25 17]\n",
      " [11 17 14  9]]\n"
     ]
    }
   ],
   "source": [
    "import numpy as np\n",
    "import scipy.signal\n",
    "\n",
    "def conv2d(X, W, p=(0, 0), s=(1, 1)):\n",
    "    \"\"\"\n",
    "    2D convolution operation with padding and stride.\n",
    "\n",
    "    Parameters:\n",
    "    - X: Input 2D array\n",
    "    - W: Kernel or filter, also a 2D array\n",
    "    - p: Padding (pad_height, pad_width), i.e., add pad_height zeros to the top/bottom of the array, \n",
    "    - add pad_width zeros to the left/bottom of the array\n",
    "    - s: Stride (stride_height, stride_width)\n",
    "\n",
    "    Returns:\n",
    "    - Convolved 2D output\n",
    "    \"\"\"\n",
    "    # Rotate the kernel by 180 degrees\n",
    "    W_rot = np.array(W)[::-1, ::-1]\n",
    "\n",
    "    # Apply padding to the input array\n",
    "    X_orig = np.array(X)\n",
    "    pad_height, pad_width = p\n",
    "    padded_shape = (X_orig.shape[0] + 2 * pad_height, X_orig.shape[1] + 2 * pad_width)\n",
    "    X_padded = np.zeros(padded_shape)\n",
    "    X_padded[pad_height:pad_height + X_orig.shape[0],\n",
    "             pad_width:pad_width + X_orig.shape[1]] = X_orig\n",
    "    # The above line copies the original X_orig into the center of a larger padded array X_padded, leaving zeros around the border.\n",
    "\n",
    "    # Initialize output list\n",
    "    res = []\n",
    "\n",
    "    stride_y, stride_x = s\n",
    "    out_height = (X_padded.shape[0] - W_rot.shape[0]) // stride_y + 1\n",
    "    out_width = (X_padded.shape[1] - W_rot.shape[1]) // stride_x + 1\n",
    "\n",
    "    # Perform the convolution operation\n",
    "    for i in range(0, out_height * stride_y, stride_y):\n",
    "        row = []\n",
    "        for j in range(0, out_width * stride_x, stride_x):\n",
    "            X_sub = X_padded[i:i + W_rot.shape[0], j:j + W_rot.shape[1]]\n",
    "            row.append(np.sum(X_sub * W_rot))  # Element-wise multiply and sum\n",
    "        res.append(row)\n",
    "\n",
    "    return np.array(res)\n",
    "\n",
    "\n",
    "# Test example\n",
    "X = [[1, 3, 2, 4],\n",
    "     [5, 6, 1, 3],\n",
    "     [1, 2, 0, 2],\n",
    "     [3, 4, 3, 2]]\n",
    "\n",
    "W = [[1, 0, 3],\n",
    "     [1, 2, 1],\n",
    "     [0, 1, 1]]\n",
    "\n",
    "print('Conv2d Implementation:\\n', conv2d(X, W, p=(1, 1), s=(1, 1)))\n",
    "\n",
    "# Compare with SciPy’s convolution (with 'same' mode to match padding)\n",
    "print('SciPy Results:\\n', scipy.signal.convolve2d(X, W, mode='same'))\n"
   ]
  },
  {
   "cell_type": "markdown",
   "id": "cb8577fb-e616-4275-988f-833767e50f60",
   "metadata": {},
   "source": [
    "# Implementing a CNN with PyTorch\n",
    "\n",
    "---\n",
    "\n",
    "### Cross-correlation\n",
    "\n",
    "- Most deep learning frameworks (including PyTorch) implement **cross-correlation** but refer to it as **convolution**.  \n",
    "- Cross-correlation is similar to traditional convolution, except that it does **not rotate the kernel** — it performs element-wise multiplication in the same orientation.\n",
    "\n",
    "---\n",
    "\n",
    "### Input Representation\n",
    "\n",
    "- The input is typically a **3D array** of shape **(Height × Width × Channels)**.\n",
    "- For example:\n",
    "  - A **grayscale** image has 1 channel (C=1).\n",
    "  - An **RGB** image has 3 channels (C=3).\n",
    "- The convolution is applied **separately per channel**, and the filtered results are **summed element-wise** to form the output for each filter.\n",
    "\n",
    "---\n",
    "\n",
    "### Regularization\n",
    "\n",
    "To improve generalization and prevent overfitting:\n",
    "- Regularization adds a **penalty term** to the loss function.\n",
    "- This discourages overly complex models and promotes simpler, more general patterns.\n",
    "- Regularization helps the model perform better on **unseen test data**.\n",
    "\n",
    "---\n",
    "\n",
    "### Dropout\n",
    "\n",
    "Another key technique to prevent overfitting is **Dropout**:\n",
    "- During training, a fraction of the hidden units is **randomly dropped** in each iteration with a user-defined probability `p`.\n",
    "- A typical choice is `p = 0.5`.\n",
    "- Dropping forces the network to rely on **multiple paths** and discourages co-adaptation of neurons.\n",
    "- After dropping, the remaining units' outputs are **scaled** to preserve the overall magnitude of the activations.\n",
    "\n",
    "---\n",
    "\n",
    "The following cells implements a CNN for MNIST digit classification with **Dropout layers** for regularization.\n"
   ]
  },
  {
   "cell_type": "markdown",
   "id": "4a26a753-8ff0-43e9-881f-73f466d64567",
   "metadata": {},
   "source": [
    "## Import required libraries"
   ]
  },
  {
   "cell_type": "code",
   "execution_count": 2,
   "id": "4c4514fd-6d5f-43c4-bfa9-130b7708baeb",
   "metadata": {},
   "outputs": [],
   "source": [
    "import torch\n",
    "import torch.nn as nn\n",
    "import torch.nn.functional as F\n",
    "import torch.optim as optim\n",
    "from torchvision import datasets, transforms\n",
    "from torch.utils.data import DataLoader\n",
    "import matplotlib.pyplot as plt"
   ]
  },
  {
   "cell_type": "markdown",
   "id": "bfa1d71f-4f68-4216-8477-00f051a9971b",
   "metadata": {},
   "source": [
    "## Load the MNIST Dataset"
   ]
  },
  {
   "cell_type": "code",
   "execution_count": 3,
   "id": "0b5a9f5a-2ff2-492b-83af-2b0bfee80f9d",
   "metadata": {},
   "outputs": [
    {
     "name": "stdout",
     "output_type": "stream",
     "text": [
      "Image Tensor Shape: torch.Size([60000, 28, 28])\n",
      "Data Type: torch.uint8\n",
      "Label Shape: torch.Size([60000])\n",
      "Unique Labels: [0, 1, 2, 3, 4, 5, 6, 7, 8, 9]\n"
     ]
    },
    {
     "data": {
      "image/png": "[encoded data removed]",
      "text/plain": [
       "<Figure size 1200x200 with 6 Axes>"
      ]
     },
     "metadata": {},
     "output_type": "display_data"
    }
   ],
   "source": [
    "# Load the training data\n",
    "mnist_raw = datasets.MNIST(root='.', train=True, download=True)\n",
    "\n",
    "# Extract the image tensors and labels\n",
    "images = mnist_raw.data\n",
    "labels = mnist_raw.targets\n",
    "\n",
    "# show the shape and data type\n",
    "print(f\"Image Tensor Shape: {images.shape}\")\n",
    "print(f\"Data Type: {images.dtype}\") # unit8 stands for \"unsigned 8-bit integer\", so it can represent numbers from 0 to 255\n",
    "print(f\"Label Shape: {labels.shape}\")\n",
    "print(f\"Unique Labels: {labels.unique().tolist()}\")\n",
    "\n",
    "# print the first 6 images\n",
    "fig, axs = plt.subplots(1, 6, figsize=(12, 2))\n",
    "for i in range(6):\n",
    "    axs[i].imshow(images[i], cmap='gray')\n",
    "    axs[i].set_title(f\"Label: {labels[i]}\")\n",
    "    axs[i].axis('off')\n",
    "plt.suptitle(\"Sample MNIST Images\")\n",
    "plt.tight_layout()\n",
    "plt.show()"
   ]
  },
  {
   "cell_type": "markdown",
   "id": "54dbad63-5e9c-410e-9ec9-57abd4cd7207",
   "metadata": {},
   "source": [
    "## Analyze the mean/std of the Dataset"
   ]
  },
  {
   "cell_type": "code",
   "execution_count": 4,
   "id": "2bc3ce7e-693a-4cf2-8714-e87dc2de6eff",
   "metadata": {},
   "outputs": [
    {
     "name": "stdout",
     "output_type": "stream",
     "text": [
      "MNIST Mean: 0.1307\n",
      "MNIST Std: 0.3081\n"
     ]
    }
   ],
   "source": [
    "data = images.float() / 255.0 # convert to float and normalize to [0, 1]\n",
    "\n",
    "# compute the mean and std\n",
    "mnist_mean = data.mean().item() # .item() method in PyTorch is used to extract a single Python scalar from a PyTorch tensor\n",
    "mnist_std = data.std().item() # that contains only one element\n",
    "\n",
    "print(f\"MNIST Mean: {mnist_mean:.4f}\")\n",
    "print(f\"MNIST Std: {mnist_std:.4f}\")"
   ]
  },
  {
   "cell_type": "markdown",
   "id": "9dade834-79a0-49f6-b984-5bbce82ebc95",
   "metadata": {},
   "source": [
    "## Reload and transform the Dataset"
   ]
  },
  {
   "cell_type": "code",
   "execution_count": 5,
   "id": "6c17ff37-7de1-49ca-ab7f-411c6f2d4249",
   "metadata": {},
   "outputs": [],
   "source": [
    "# Transform the data so that it has zero mean and unit variance, which helps models train faster and more stably\n",
    "# We can transform the data automatically as it's being loaded\n",
    "\n",
    "# first, define a transform operation\n",
    "\n",
    "transform = transforms.Compose([    # combines together multiple transformation so that they can be applied in order to the data\n",
    "    transforms.ToTensor(),    # first converts the image from an numpy array or image array to a PyTorch tensor\n",
    "    transforms.Normalize((0.1307,), (0.3081,))  # then normalizes the tensor using the mean and STD of the dataset\n",
    "])\n",
    "\n",
    "train_dataset = datasets.MNIST(root='data', train=True, transform=transform, download=True)\n",
    "test_dataset = datasets.MNIST(root='data', train=False, transform=transform, download=True)\n",
    "\n",
    "# prepare the dataset in mini-batches of size 64 and shuffle the data at each epoch\n",
    "# Each mini-batch will be fed into the model and the loss is comput4ed for each mini-batch. The optimizer updates the weights\n",
    "# after each mini-batch (standard SGD). At the end of the epoch, we typically aggregate the losses to evaluate the overall performance\n",
    "train_loader = DataLoader(train_dataset, batch_size=64, shuffle=True)\n",
    "test_loader = DataLoader(test_dataset, batch_size=1000, shuffle=False)"
   ]
  },
  {
   "cell_type": "markdown",
   "id": "4f0ad0ae-26a8-4920-a920-87a3fe47d6e1",
   "metadata": {},
   "source": [
    "## Defined the CNN Model with Dropout"
   ]
  },
  {
   "cell_type": "code",
   "execution_count": 6,
   "id": "19877d67-bd39-483b-9074-5013bfd09b66",
   "metadata": {},
   "outputs": [],
   "source": [
    "class CNNWithDropout(nn.Module):\n",
    "\n",
    "    def __init__(self):\n",
    "        super(CNNWithDropout, self).__init__()\n",
    "\n",
    "        # First convolutional layer: input 1x28x28 --> output 10x24x24\n",
    "        # In PyTorch, the standard shape for image tensor is [Batch Size, Channels, Height, Width]\n",
    "        self.conv1 = nn.Conv2d(in_channels=1, out_channels=10, kernel_size=5, stride=1, padding=0)\n",
    "\n",
    "        # Second convolutional layer: input 10x12x12 (why?) --> output 20x8x8\n",
    "        self.conv2 = nn.Conv2d(in_channels=10, out_channels=20, kernel_size=5, stride=1, padding=0)\n",
    "\n",
    "        # Dropout layer after conv2\n",
    "        self.dropout1 = nn.Dropout2d(p=0.25)\n",
    "\n",
    "        # Fully connected layers\n",
    "        self.fc1 = nn.Linear(320, 50) # flattend size: 20x4x4 = 320\n",
    "        self.dropout2 = nn.Dropout(p=0.5)\n",
    "        self.fc2 = nn.Linear(50, 10) # 10 output class (digts 0-9)\n",
    "\n",
    "    def forward(self, x):\n",
    "        # Apply conv --> ReLU --> MaxPool\n",
    "        x = F.relu(F.max_pool2d(self.conv1(x), 2))\n",
    "        x = F.relu(F.max_pool2d(self.dropout1(self.conv2(x)), 2))\n",
    "\n",
    "        x = torch.flatten(x, 1)\n",
    "        x = F.relu(self.fc1(x))\n",
    "        x = self.dropout2(x)\n",
    "        x = self.fc2(x)\n",
    "        return F.log_softmax(x, dim=1) # Log-Softmax for classification\n",
    "        "
   ]
  },
  {
   "cell_type": "markdown",
   "id": "03fbfea6-5a63-44e7-b7c5-f8636cb53416",
   "metadata": {},
   "source": [
    "## Training and Evaluation Functions"
   ]
  },
  {
   "cell_type": "code",
   "execution_count": 7,
   "id": "4db6456a-39c5-4edb-bc5a-6aa4d62fd00a",
   "metadata": {},
   "outputs": [],
   "source": [
    "def train(model, device, train_loader, optimizer, epoch):\n",
    "    model.train()\n",
    "    for batch_idx, (data, target) in enumerate(train_loader):\n",
    "        data, target = data.to(device), target.to(device)\n",
    "\n",
    "        optimizer.zero_grad()\n",
    "        output = model(data)\n",
    "        loss = F.nll_loss(output, target) # Negative Log Likelihood\n",
    "        loss.backward()\n",
    "        optimizer.step()\n",
    "\n",
    "        if batch_idx % 100 == 0:\n",
    "            print(f\"Train Epoch: {epoch} [{batch_idx*len(data)}/{len(train_loader.dataset)}] Loss: {loss.item():.4f}\")\n",
    "\n",
    "def test(model, device, test_loader):\n",
    "    model.eval()\n",
    "    correct = 0\n",
    "    test_loss = 0\n",
    "\n",
    "    with torch.no_grad():\n",
    "        for data, target in test_loader:\n",
    "            data, target = data.to(device), target.to(device)\n",
    "            output = model(data)\n",
    "            test_loss += F.nll_loss(output, target, reduction='sum').item()\n",
    "            pred = output.argmax(dim=1)\n",
    "            correct += pred.eq(target).sum().item()\n",
    "\n",
    "    test_loss /= len(test_loader.dataset)\n",
    "    accuracy = 100. * correct / len(test_loader.dataset)\n",
    "    print(f\"\\nTest set: Avg. loss: {test_loss:.4f}, Accuracy: {correct}/{len(test_loader.dataset)} ({accuracy:.2f}%)\\n\")"
   ]
  },
  {
   "cell_type": "markdown",
   "id": "cfa373b0-4fad-4d4e-a9b1-54387c4b659d",
   "metadata": {},
   "source": [
    "## Instantiate Model, Optimizer, and Run Training"
   ]
  },
  {
   "cell_type": "code",
   "execution_count": 8,
   "id": "63b0f542-ca53-4fe7-b0cb-433286041270",
   "metadata": {},
   "outputs": [
    {
     "name": "stdout",
     "output_type": "stream",
     "text": [
      "Train Epoch: 1 [0/60000] Loss: 2.2720\n",
      "Train Epoch: 1 [6400/60000] Loss: 0.5630\n",
      "Train Epoch: 1 [12800/60000] Loss: 0.5167\n",
      "Train Epoch: 1 [19200/60000] Loss: 0.3291\n",
      "Train Epoch: 1 [25600/60000] Loss: 0.2988\n",
      "Train Epoch: 1 [32000/60000] Loss: 0.1830\n",
      "Train Epoch: 1 [38400/60000] Loss: 0.2188\n",
      "Train Epoch: 1 [44800/60000] Loss: 0.2599\n",
      "Train Epoch: 1 [51200/60000] Loss: 0.3853\n",
      "Train Epoch: 1 [57600/60000] Loss: 0.1947\n",
      "\n",
      "Test set: Avg. loss: 0.0813, Accuracy: 9747/10000 (97.47%)\n",
      "\n",
      "Train Epoch: 2 [0/60000] Loss: 0.3089\n",
      "Train Epoch: 2 [6400/60000] Loss: 0.1187\n",
      "Train Epoch: 2 [12800/60000] Loss: 0.1146\n",
      "Train Epoch: 2 [19200/60000] Loss: 0.1931\n",
      "Train Epoch: 2 [25600/60000] Loss: 0.3192\n",
      "Train Epoch: 2 [32000/60000] Loss: 0.1335\n",
      "Train Epoch: 2 [38400/60000] Loss: 0.1513\n",
      "Train Epoch: 2 [44800/60000] Loss: 0.1236\n",
      "Train Epoch: 2 [51200/60000] Loss: 0.1898\n",
      "Train Epoch: 2 [57600/60000] Loss: 0.0651\n",
      "\n",
      "Test set: Avg. loss: 0.0499, Accuracy: 9840/10000 (98.40%)\n",
      "\n",
      "Train Epoch: 3 [0/60000] Loss: 0.0974\n",
      "Train Epoch: 3 [6400/60000] Loss: 0.0657\n",
      "Train Epoch: 3 [12800/60000] Loss: 0.0876\n",
      "Train Epoch: 3 [19200/60000] Loss: 0.0753\n",
      "Train Epoch: 3 [25600/60000] Loss: 0.1338\n",
      "Train Epoch: 3 [32000/60000] Loss: 0.1597\n",
      "Train Epoch: 3 [38400/60000] Loss: 0.0773\n",
      "Train Epoch: 3 [44800/60000] Loss: 0.2206\n",
      "Train Epoch: 3 [51200/60000] Loss: 0.1440\n",
      "Train Epoch: 3 [57600/60000] Loss: 0.2193\n",
      "\n",
      "Test set: Avg. loss: 0.0432, Accuracy: 9858/10000 (98.58%)\n",
      "\n",
      "Train Epoch: 4 [0/60000] Loss: 0.0558\n",
      "Train Epoch: 4 [6400/60000] Loss: 0.1003\n",
      "Train Epoch: 4 [12800/60000] Loss: 0.0570\n",
      "Train Epoch: 4 [19200/60000] Loss: 0.1382\n",
      "Train Epoch: 4 [25600/60000] Loss: 0.1394\n",
      "Train Epoch: 4 [32000/60000] Loss: 0.1508\n",
      "Train Epoch: 4 [38400/60000] Loss: 0.1371\n",
      "Train Epoch: 4 [44800/60000] Loss: 0.0242\n",
      "Train Epoch: 4 [51200/60000] Loss: 0.1216\n",
      "Train Epoch: 4 [57600/60000] Loss: 0.1109\n",
      "\n",
      "Test set: Avg. loss: 0.0395, Accuracy: 9874/10000 (98.74%)\n",
      "\n",
      "Train Epoch: 5 [0/60000] Loss: 0.1168\n",
      "Train Epoch: 5 [6400/60000] Loss: 0.0557\n",
      "Train Epoch: 5 [12800/60000] Loss: 0.0295\n",
      "Train Epoch: 5 [19200/60000] Loss: 0.0642\n",
      "Train Epoch: 5 [25600/60000] Loss: 0.0290\n",
      "Train Epoch: 5 [32000/60000] Loss: 0.1083\n",
      "Train Epoch: 5 [38400/60000] Loss: 0.0494\n",
      "Train Epoch: 5 [44800/60000] Loss: 0.0507\n",
      "Train Epoch: 5 [51200/60000] Loss: 0.0515\n",
      "Train Epoch: 5 [57600/60000] Loss: 0.0930\n",
      "\n",
      "Test set: Avg. loss: 0.0374, Accuracy: 9889/10000 (98.89%)\n",
      "\n"
     ]
    }
   ],
   "source": [
    "device = torch.device(\"cuda\" if torch.cuda.is_available() else \"cpu\")\n",
    "model = CNNWithDropout().to(device)\n",
    "optimizer = optim.Adam(model.parameters(), lr=0.001)\n",
    "\n",
    "for epoch in range(1, 6): # Train for 5 epochs\n",
    "    train(model, device, train_loader, optimizer, epoch)\n",
    "    test(model, device, test_loader)"
   ]
  },
  {
   "cell_type": "markdown",
   "id": "5e5d21a3-412a-40a4-9c79-8bfe7d775ff3",
   "metadata": {},
   "source": [
    "## Visualize the architecture of the neural network"
   ]
  },
  {
   "cell_type": "markdown",
   "id": "65957a58-d53e-406c-a540-28b5e06f821e",
   "metadata": {},
   "source": [
    "### Use torchviz – For Graph Visualization\n",
    "\n",
    "- It draws the computation graph, great for understanding layer connections and flow.\n",
    "- generates a real graph (saved as PNG, PDF, etc.)\n"
   ]
  },
  {
   "cell_type": "code",
   "execution_count": 11,
   "id": "abea590b-787f-4ce6-845a-143f67944c18",
   "metadata": {},
   "outputs": [
    {
     "data": {
      "text/plain": [
       "'cnn_graph.png'"
      ]
     },
     "execution_count": 11,
     "metadata": {},
     "output_type": "execute_result"
    }
   ],
   "source": [
    "from torchviz import make_dot\n",
    "\n",
    "import torch\n",
    "model = CNNWithDropout()\n",
    "dummy_input = torch.randn(1, 1, 28, 28)\n",
    "output = model(dummy_input)\n",
    "\n",
    "make_dot(output, params=dict(model.named_parameters())).render(\"cnn_graph\", format=\"png\")"
   ]
  },
  {
   "cell_type": "markdown",
   "id": "8c96f3ae-8127-4325-8ae1-06c2a3dc1a1b",
   "metadata": {},
   "source": [
    "### Use torchsummary to Quick and Easy Overview\n",
    "\n",
    "- Gives a compact, layer-by-layer summary\n",
    "- Input/output shapes, parameter counts, total memory usage\n",
    "- Use it when you want a quick idea of the model’s structure without visualizing it."
   ]
  },
  {
   "cell_type": "code",
   "execution_count": 13,
   "id": "b3d02f7c-cbf2-4775-81a0-cbaf9e4278ab",
   "metadata": {},
   "outputs": [
    {
     "name": "stdout",
     "output_type": "stream",
     "text": [
      "----------------------------------------------------------------\n",
      "        Layer (type)               Output Shape         Param #\n",
      "================================================================\n",
      "            Conv2d-1           [-1, 10, 24, 24]             260\n",
      "            Conv2d-2             [-1, 20, 8, 8]           5,020\n",
      "         Dropout2d-3             [-1, 20, 8, 8]               0\n",
      "            Linear-4                   [-1, 50]          16,050\n",
      "           Dropout-5                   [-1, 50]               0\n",
      "            Linear-6                   [-1, 10]             510\n",
      "================================================================\n",
      "Total params: 21,840\n",
      "Trainable params: 21,840\n",
      "Non-trainable params: 0\n",
      "----------------------------------------------------------------\n",
      "Input size (MB): 0.00\n",
      "Forward/backward pass size (MB): 0.06\n",
      "Params size (MB): 0.08\n",
      "Estimated Total Size (MB): 0.15\n",
      "----------------------------------------------------------------\n"
     ]
    }
   ],
   "source": [
    "from torchsummary import summary\n",
    "\n",
    "model = CNNWithDropout()\n",
    "summary(model, input_size=(1, 28, 28)"
   ]
  },
  {
   "cell_type": "code",
   "execution_count": null,
   "id": "85be6083-23b6-4b83-a5bb-6e728cfa8595",
   "metadata": {},
   "outputs": [],
   "source": []
  }
 ],
 "metadata": {
  "kernelspec": {
   "display_name": "Python 3 (ipykernel)",
   "language": "python",
   "name": "python3"
  },
  "language_info": {
   "codemirror_mode": {
    "name": "ipython",
    "version": 3
   },
   "file_extension": ".py",
   "mimetype": "text/x-python",
   "name": "python",
   "nbconvert_exporter": "python",
   "pygments_lexer": "ipython3",
   "version": "3.13.2"
  }
 },
 "nbformat": 4,
 "nbformat_minor": 5
}
