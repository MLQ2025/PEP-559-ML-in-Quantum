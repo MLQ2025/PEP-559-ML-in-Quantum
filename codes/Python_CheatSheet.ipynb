{
 "cells": [
  {
   "cell_type": "markdown",
   "id": "d7f971eb-b5fe-4033-a696-0af95e8eb4de",
   "metadata": {},
   "source": [
    "# A Python Cheat Sheet\n",
    "\n",
    "This notebook is designed to provide an overview of Python concepts and libraries essential for machine learning, including basic programming, matrix operations, data manipulation, and visualization.\n",
    "\n",
    "---\n",
    "\n",
    "At the end of this document, there are additional sections on using **Pandas**, **Numpy**, **SciPy**, and other essential packages"
   ]
  },
  {
   "cell_type": "markdown",
   "id": "424a664c-9395-4236-8629-379c8215b762",
   "metadata": {},
   "source": [
    "## 1. Viariables and Data Types"
   ]
  },
  {
   "cell_type": "code",
   "execution_count": null,
   "id": "deb13e97-2086-4d3c-b6f6-ea6374a1fae2",
   "metadata": {},
   "outputs": [],
   "source": [
    "x = 42  # Integer\n",
    "y = 3.14  # Float\n",
    "z = \"Machine Learning\"  # String\n",
    "\n",
    "print(x, type(x))\n",
    "print(y, type(y))\n",
    "print(z, type(z))"
   ]
  },
  {
   "cell_type": "markdown",
   "id": "21d8e53e-5728-4022-a7d6-3158a3f32d4f",
   "metadata": {},
   "source": [
    "## 2. Data Structure"
   ]
  },
  {
   "cell_type": "markdown",
   "id": "adf476d6-252a-4a08-904e-2c1bd70ca642",
   "metadata": {},
   "source": [
    "### 2.1 Lists"
   ]
  },
  {
   "cell_type": "code",
   "execution_count": null,
   "id": "a289d65b-33ad-4e16-87d4-106a561830e2",
   "metadata": {},
   "outputs": [],
   "source": [
    "numbers = [1, 2, 3, 4, 5]\n",
    "numbers.append(6)\n",
    "print(numbers)\n",
    "print(numbers[0])\n",
    "print(numbers[-1])"
   ]
  },
  {
   "cell_type": "markdown",
   "id": "0c0eaea5-63b8-4a5e-8b4c-56a939e7cddb",
   "metadata": {},
   "source": [
    "### 2.2 Dictionaries"
   ]
  },
  {
   "cell_type": "code",
   "execution_count": null,
   "id": "60f392fc-a57c-4511-a757-3aabbe4174bf",
   "metadata": {},
   "outputs": [],
   "source": [
    "student = {\"name\": \"Alice\",\n",
    "           \"age\": 24,\n",
    "           \"grade\": \"A\"}  # key-value pair\n",
    "print(student[\"name\"])  # access value by key"
   ]
  },
  {
   "cell_type": "markdown",
   "id": "5a900848-0989-496f-a585-1b19a52a7c98",
   "metadata": {},
   "source": [
    "### 2.3 Tuples"
   ]
  },
  {
   "cell_type": "code",
   "execution_count": null,
   "id": "dfc4d3f9-af6c-4635-9cde-26fbe71044b7",
   "metadata": {},
   "outputs": [],
   "source": [
    "coordinates = (10, 20)  # a tuple is an immutable list -- cannot be changed"
   ]
  },
  {
   "cell_type": "markdown",
   "id": "d7e80727-bf9d-4eef-a38d-fbf91b758ac7",
   "metadata": {},
   "source": [
    "### 2.4 Sets"
   ]
  },
  {
   "cell_type": "code",
   "execution_count": null,
   "id": "d5fae4b8-ca09-49a6-bee9-152436ba2dc2",
   "metadata": {},
   "outputs": [],
   "source": [
    "unique_numbers = {1, 2, 3, 3, 4}  # unique, unordered\n",
    "print(unique_numbers)"
   ]
  },
  {
   "cell_type": "markdown",
   "id": "f29b4fb9-606f-4103-9d95-86a4b79e645e",
   "metadata": {},
   "source": [
    "## 3. Control Statements"
   ]
  },
  {
   "cell_type": "markdown",
   "id": "3c03ca74-ddc6-4a8b-8091-34b55b20aca2",
   "metadata": {},
   "source": [
    "### 3.1 If-Else"
   ]
  },
  {
   "cell_type": "code",
   "execution_count": null,
   "id": "ec6e08e1-f0d4-49ee-aaf4-401219de5c47",
   "metadata": {},
   "outputs": [],
   "source": [
    "x = 5\n",
    "if x > 0:\n",
    "    print(\"x is positive\")\n",
    "elif x == 0:\n",
    "    print(\"x is zero\")\n",
    "else:\n",
    "    print(\"x is negative\")"
   ]
  },
  {
   "cell_type": "markdown",
   "id": "8838ee61-6e42-4255-9d27-3f0eefddf2fc",
   "metadata": {},
   "source": [
    "### 3.2 For Loop"
   ]
  },
  {
   "cell_type": "code",
   "execution_count": null,
   "id": "42948257-30dd-4a71-8c3e-4efef5a2a716",
   "metadata": {},
   "outputs": [],
   "source": [
    "numbers = [1, 2, 3, 4, 5]\n",
    "for num in numbers:\n",
    "    print(num)"
   ]
  },
  {
   "cell_type": "markdown",
   "id": "cf0fadd0-ba8f-4f49-b624-137ec7f04bd6",
   "metadata": {},
   "source": [
    "### 3.3 While Loop"
   ]
  },
  {
   "cell_type": "code",
   "execution_count": null,
   "id": "5bafe714-ec8a-4cce-a7fc-43668e5cd511",
   "metadata": {},
   "outputs": [],
   "source": [
    "i = 0\n",
    "while i < 3:\n",
    "    print(i)\n",
    "    i += 1"
   ]
  },
  {
   "cell_type": "markdown",
   "id": "6a7cf88a-5c01-4cda-9729-40e8a8703fa9",
   "metadata": {},
   "source": [
    "## 4. Functions"
   ]
  },
  {
   "cell_type": "markdown",
   "id": "9bfa7c4e-f06f-47e1-bf50-b8ee5bc03aec",
   "metadata": {},
   "source": [
    "### 4.1 Defining a standard function"
   ]
  },
  {
   "cell_type": "code",
   "execution_count": null,
   "id": "f0fc0e37-6b7b-4caa-8854-5e873290a5c3",
   "metadata": {},
   "outputs": [],
   "source": [
    "def add_numbers(a, b):\n",
    "    return a + b\n",
    "\n",
    "c = add_numbers(3, 5)\n",
    "print(c)"
   ]
  },
  {
   "cell_type": "markdown",
   "id": "d90c8ee8-b3cb-45b5-ba2a-54b539425a64",
   "metadata": {},
   "source": [
    "### 4.2 Lambda function"
   ]
  },
  {
   "cell_type": "code",
   "execution_count": null,
   "id": "1fa9b25e-f1b9-4847-8b9e-a5d5e7a3c33e",
   "metadata": {},
   "outputs": [],
   "source": [
    "square = lambda x: x**2\n",
    "print(square(2))"
   ]
  },
  {
   "cell_type": "markdown",
   "id": "4b4ce6dd-0bb7-45d9-bfac-5636f43edc4f",
   "metadata": {},
   "source": [
    "### 5. Classes and Object-Oriented Programming "
   ]
  },
  {
   "cell_type": "code",
   "execution_count": null,
   "id": "6879c841-2af8-4e8b-9414-bda4ec898d3b",
   "metadata": {},
   "outputs": [],
   "source": [
    "# A class is a blueprint for creating objects. It encapsulates data (attributes) and methods (functions) that operate on that data\n",
    "class Calculator:  \n",
    "    def __init__(self):  # This is the \"constructor method\". It is automatically called when a new object of the class is created\n",
    "        pass             # The method name __init__ is special in Python and it's. used to initialize the object\n",
    "                         # The self parameter refers to the instance (object) being created and allows you to access the object's attributes and methods\n",
    "                         # The pass statement is a placeholder that does nothing\n",
    "    \n",
    "    def add(self, a, b): # This line defines a method (or function) named \"add\" inside the class; There are three parameters\n",
    "        return a + b     # The first parameter self refers to the instance of the class and is required in all method defitions.\n",
    "\n",
    "\n",
    "calc = Calculator()      # This creates an object (or instance) of the Calculator class named calc. The variable calc now represents the newly created class, and you can call its methods\n",
    "print(calc.add(2, 3))    # The Calculator class encapsulates the add functionality, hiding implementation details from the user\n",
    "                         # Once created, the class can be reused to create multiple objects, each with its own attributes."
   ]
  },
  {
   "cell_type": "code",
   "execution_count": null,
   "id": "d6f4c6b3-76dc-4872-ab28-21208544cc06",
   "metadata": {},
   "outputs": [],
   "source": [
    "class Person:\n",
    "    def __init__(self, name, age):\n",
    "        self.name = name  # Attribute: name\n",
    "        self.age = age    # Attribute: age\n",
    "\n",
    "    def greet(self):\n",
    "        return f\"Hello, my name is {self.name} and I am {self.age} years old.\"\n",
    "\n",
    "# Create multiple objects (instances) of the Person class\n",
    "person1 = Person(\"Alice\", 30)\n",
    "person2 = Person(\"Bob\", 25)\n",
    "\n",
    "# Access attributes and methods\n",
    "print(person1.greet())  # Output: Hello, my name is Alice and I am 30 years old.\n",
    "print(person2.greet())  # Output: Hello, my name is Bob and I am 25 years old.\n"
   ]
  },
  {
   "cell_type": "markdown",
   "id": "852fa57d-bdb0-43f1-b947-57997b332cc4",
   "metadata": {},
   "source": [
    "## 6. Numpy: efficient numerical computation"
   ]
  },
  {
   "cell_type": "code",
   "execution_count": null,
   "id": "dc486897-dced-4230-bd8d-73b40fc7bb9d",
   "metadata": {},
   "outputs": [],
   "source": [
    "import numpy as np\n",
    "\n",
    "# Create numpy arrays\n",
    "a = np.array([1, 2, 3])\n",
    "b = np.array([[1, 2], [3, 4]])\n",
    "\n",
    "# element-wise operations\n",
    "print(a + 1)\n",
    "print(b * 2)"
   ]
  },
  {
   "cell_type": "code",
   "execution_count": null,
   "id": "bc93ca9d-18ba-465f-8560-3511c39ad0ec",
   "metadata": {},
   "outputs": [],
   "source": [
    "# Generating random numbers\n",
    "random_matrix = np.random.rand(3, 3)\n",
    "print(random_matrix)"
   ]
  },
  {
   "cell_type": "code",
   "execution_count": null,
   "id": "4af5a147-e387-4da2-9016-f31e9524a129",
   "metadata": {},
   "outputs": [],
   "source": [
    "# Matrix multiplication\n",
    "A = np.array([[1, 2], [3, 4]])\n",
    "B = np.array([[5, 6], [7, 8]])\n",
    "C = np.dot(A, B)\n",
    "D = np.matmul(A, B)\n",
    "F = A * B  # element-wise multiplication\n",
    "print(C)\n",
    "print(D)\n",
    "print(F)"
   ]
  },
  {
   "cell_type": "code",
   "execution_count": null,
   "id": "d4798853-aca1-43a7-9524-2066e6abb4f3",
   "metadata": {},
   "outputs": [],
   "source": [
    "# Fancy indexing\n",
    "array = np.array([10, 20, 30, 40, 50])\n",
    "indices = [0, 2, 4]\n",
    "print(array[indices])"
   ]
  },
  {
   "cell_type": "code",
   "execution_count": null,
   "id": "ea8f9223-2254-437c-947e-ce61191bd511",
   "metadata": {},
   "outputs": [],
   "source": [
    "# broadcasting\n",
    "matrix = np.ones((3, 3))\n",
    "vector = np.array([1, 2, 3])\n",
    "print(matrix)\n",
    "print(vector)\n",
    "print(matrix+vector)"
   ]
  },
  {
   "cell_type": "code",
   "execution_count": null,
   "id": "f6603082-1987-475a-83c1-4648dd404d26",
   "metadata": {},
   "outputs": [],
   "source": [
    "# linear algebra\n",
    "from numpy.linalg import inv, det\n",
    "A = np.array([[1, 2], [3, 4]])\n",
    "print(\"Determinant:\", det(A))\n",
    "print(\"Inverse:\\n\", inv(A))"
   ]
  },
  {
   "cell_type": "markdown",
   "id": "10222efd-7846-468e-99b1-bf1963d44a87",
   "metadata": {},
   "source": [
    "## 7. Pandas: data manipulation"
   ]
  },
  {
   "cell_type": "code",
   "execution_count": null,
   "id": "427d2283-c488-44b9-9af7-db87159e5168",
   "metadata": {},
   "outputs": [],
   "source": [
    "import pandas as pd\n",
    "\n",
    "# Create a DataFrame\n",
    "data = {\"Name\": [\"Alice\", \"Bob\", \"Charlie\"], \"Score\": [90, 80, 85]}\n",
    "df = pd.DataFrame(data)\n",
    "\n",
    "print(df)"
   ]
  },
  {
   "cell_type": "code",
   "execution_count": null,
   "id": "cddad1c0-9199-43ce-a07a-aae85012ca9f",
   "metadata": {},
   "outputs": [],
   "source": [
    "print(df[\"Name\"])"
   ]
  },
  {
   "cell_type": "code",
   "execution_count": null,
   "id": "dafa54b6-aa2a-45ba-a7b7-ca0ce27fe226",
   "metadata": {},
   "outputs": [],
   "source": [
    "print(df[\"Score\"])"
   ]
  },
  {
   "cell_type": "code",
   "execution_count": null,
   "id": "9ab440ed-5873-46e3-b513-c7d9756fef28",
   "metadata": {},
   "outputs": [],
   "source": [
    "filtered = df[df[\"Score\"] > 85]\n",
    "print(filtered)"
   ]
  },
  {
   "cell_type": "code",
   "execution_count": null,
   "id": "917fb6a8-2ac9-4119-9aeb-f3fc42443c81",
   "metadata": {},
   "outputs": [],
   "source": [
    "#groupby and aggregation\n",
    "data = {\"Name\": [\"Alice\", \"Bob\", \"Alice\", \"Bob\"],\n",
    "        \"Score\": [85, 90, 78, 88]}\n",
    "df = pd.DataFrame(data)\n",
    "grouped = df.groupby(\"Name\").mean()\n",
    "print(grouped)"
   ]
  },
  {
   "cell_type": "code",
   "execution_count": null,
   "id": "ac9fc55a-88b5-45c8-86c7-61f2597d7d74",
   "metadata": {},
   "outputs": [],
   "source": [
    "# data cleaning\n",
    "df = pd.DataFrame({\"Name\": [\"Alice\", None, \"Charlie\"], \"Score\": [85, 90, None]})\n",
    "print(df)\n",
    "df = df.fillna(\"Unknown\") # replace NaN values\n",
    "print(df)"
   ]
  },
  {
   "cell_type": "code",
   "execution_count": null,
   "id": "1c762d62-3b0b-42d0-abfd-722d09645bcc",
   "metadata": {},
   "outputs": [],
   "source": [
    "# save to and load from CSV\n",
    "df.to_csv(\"data.csv\", index=False)\n",
    "\n",
    "new_df = pd.read_csv(\"data.csv\")"
   ]
  },
  {
   "cell_type": "code",
   "execution_count": null,
   "id": "46012051-1d4b-431a-895c-df375f89ff9a",
   "metadata": {},
   "outputs": [],
   "source": []
  },
  {
   "cell_type": "markdown",
   "id": "bad242fc-5b67-4c59-a618-91dca74c1433",
   "metadata": {},
   "source": [
    "## 8. SciPy: advanced mathematical functions"
   ]
  },
  {
   "cell_type": "markdown",
   "id": "09daa241-1350-4820-a28a-cb0e5b67e242",
   "metadata": {},
   "source": [
    "### Optimization"
   ]
  },
  {
   "cell_type": "code",
   "execution_count": null,
   "id": "679f049c-cffe-48aa-a8e7-a101032a8145",
   "metadata": {},
   "outputs": [],
   "source": [
    "from scipy.optimize import minimize\n",
    "\n",
    "# minimize a simple quadratic function\n",
    "def objective(x):\n",
    "    return (x - 3)**2\n",
    "\n",
    "result = minimize(objective, x0=0)\n",
    "print(\"optimal x:\", result.x)"
   ]
  },
  {
   "cell_type": "markdown",
   "id": "115ec90a-a171-431f-b7cc-cefbdba78a47",
   "metadata": {},
   "source": [
    "### Linear algebra"
   ]
  },
  {
   "cell_type": "code",
   "execution_count": null,
   "id": "cd1685fe-09fb-48dd-a45b-d48b31266a15",
   "metadata": {},
   "outputs": [],
   "source": [
    "from scipy.linalg import eig\n",
    "\n",
    "# compute eigenvalues\n",
    "matrix = np.array([[1, 2], [2, 3]])\n",
    "eigenvalues, eigenvectors = eig(matrix)\n",
    "print(\"Eigenvalues:\", eigenvalues)\n",
    "print(\"Eigenvectors:\", eigenvectors)"
   ]
  },
  {
   "cell_type": "markdown",
   "id": "daabd59a-aa9c-465f-92a8-d1296e4c5734",
   "metadata": {},
   "source": [
    "### Integration"
   ]
  },
  {
   "cell_type": "code",
   "execution_count": null,
   "id": "195a758c-fdaa-412b-89f9-59534853d0b1",
   "metadata": {},
   "outputs": [],
   "source": [
    "from scipy.integrate import quad\n",
    "\n",
    "def func(x):\n",
    "    return x**2\n",
    "\n",
    "result, _ = quad(func, 0, 1) # integrate x^2 from 0 to 1\n",
    "print(\"Integral:\", result)"
   ]
  },
  {
   "cell_type": "markdown",
   "id": "04fc3f7f-4940-4919-b7bc-0ff2e1874dc1",
   "metadata": {},
   "source": [
    "### Statistics"
   ]
  },
  {
   "cell_type": "code",
   "execution_count": null,
   "id": "ba86a76f-93a8-4d7d-b425-313054b80bf6",
   "metadata": {},
   "outputs": [],
   "source": [
    "from scipy.stats import norm\n",
    "\n",
    "# probability density function (pdf) of the normal distribution\n",
    "x = np.linspace(-3, 3, 100)\n",
    "pdf = norm.pdf(x)\n",
    "plt.plot(x, pdf)\n",
    "plt.title(\"Normal distribution PDF\")\n",
    "plt.show()"
   ]
  },
  {
   "cell_type": "markdown",
   "id": "cfc2399e-9bc4-4784-89de-ad3a30761dce",
   "metadata": {},
   "source": [
    "## 9.Visualization with matplotlib"
   ]
  },
  {
   "cell_type": "code",
   "execution_count": null,
   "id": "c00852b4-a791-4a2b-9490-ad9d05a31cc4",
   "metadata": {},
   "outputs": [],
   "source": [
    "import matplotlib.pyplot as plt\n",
    "\n",
    "x = np.linspace(0, 10, 100)\n",
    "y = np.sin(x)\n",
    "\n",
    "plt.plot(x, y, label=\"Sine Wave\")\n",
    "plt.title(\"Sine Funtion\")\n",
    "plt.xlabel(\"x\")\n",
    "plt.ylabel(\"sin(x)\")\n",
    "plt.legend()\n",
    "plt.show()"
   ]
  },
  {
   "cell_type": "code",
   "execution_count": null,
   "id": "6c3e0abd-74b2-4dce-9737-eeb163521960",
   "metadata": {},
   "outputs": [],
   "source": [
    "# Histogram\n",
    "data = np.random.randn(1000)\n",
    "plt.hist(data, bins=30, alpha=0.7)\n",
    "plt.title(\"Histogram of Random Data\")\n",
    "plt.show()"
   ]
  },
  {
   "cell_type": "code",
   "execution_count": null,
   "id": "4072de05-7cc8-4168-9bfd-25995295f82f",
   "metadata": {},
   "outputs": [],
   "source": [
    "import numpy as np\n",
    "import seaborn as sns\n",
    "import matplotlib.pyplot as plt\n",
    "\n",
    "# Generate random data for the heatmap\n",
    "np.random.seed(42)\n",
    "data = np.random.rand(10, 10)  # A 10x10 matrix of random values\n",
    "\n",
    "# Create the heatmap\n",
    "plt.figure(figsize=(8, 6))\n",
    "sns.heatmap(data, annot=True, fmt=\".2f\", cmap=\"viridis\", cbar=True)\n",
    "\n",
    "# Add title and labels\n",
    "plt.title(\"Heatmap Example with Seaborn\", fontsize=16)\n",
    "plt.xlabel(\"X-axis Label\")\n",
    "plt.ylabel(\"Y-axis Label\")\n",
    "plt.show()\n"
   ]
  },
  {
   "cell_type": "code",
   "execution_count": null,
   "id": "f45d529c-4ba9-4437-9426-9c567d128ab7",
   "metadata": {},
   "outputs": [],
   "source": [
    "A = np.random.rand(5, 5)\n",
    "B = np.random.rand(5, 5)\n",
    "C = np.dot(A, B)\n",
    "plt.imshow(C, cmap=\"viridis\")\n",
    "plt.colorbar()\n",
    "plt.title(\"Matrix Multiplication Result\")\n",
    "plt.show()"
   ]
  },
  {
   "cell_type": "code",
   "execution_count": null,
   "id": "51bc3a28-fd21-4480-9fe4-9c669bb8b05c",
   "metadata": {},
   "outputs": [],
   "source": [
    "# subplots\n",
    "\n",
    "fig, axes = plt.subplots(1, 2, figsize=(10, 4))\n",
    "axes[0].plot([1, 2, 3], [4, 5, 6], label=\"Line 1\")\n",
    "axes[1].bar([1, 2, 3], [6, 5, 4], label=\"Bar 1\")\n",
    "plt.legend()\n",
    "plt.show()"
   ]
  },
  {
   "cell_type": "code",
   "execution_count": null,
   "id": "63868a6d-756f-4bf6-b248-6403c991fbfb",
   "metadata": {},
   "outputs": [],
   "source": [
    "# customizing plots\n",
    "plt.plot([1, 2, 3], [4, 5, 6], color=\"red\", linestyle=\"--\", marker=\"o\")\n",
    "plt.title(\"customized plot\")\n",
    "plt.xlabel(\"x-axis\")\n",
    "plt.ylabel(\"y-axis\")\n",
    "plt.show()"
   ]
  },
  {
   "cell_type": "markdown",
   "id": "c3300860-7799-4d0f-8311-e8ab836bae5b",
   "metadata": {},
   "source": [
    "## 10. File Handling"
   ]
  },
  {
   "cell_type": "code",
   "execution_count": null,
   "id": "d26698d6-a0b7-4cb8-bfec-de03c5a2c585",
   "metadata": {},
   "outputs": [],
   "source": [
    "# Write to a file\n",
    "with open(\"filename.txt\", \"w\") as f:\n",
    "    f.write(\"Hello, Python!\\nThis is a file handling example.\")\n",
    "\n",
    "# Read a file\n",
    "with open(\"filename.txt\", \"r\") as f:\n",
    "    content = f.read()\n",
    "    print(content)"
   ]
  },
  {
   "cell_type": "markdown",
   "id": "106203ad-50fb-4c55-a2c1-b124481a9b2e",
   "metadata": {},
   "source": [
    "## 11. List comprehensions"
   ]
  },
  {
   "cell_type": "code",
   "execution_count": null,
   "id": "11ec7d15-65db-4734-96b5-4a5247024508",
   "metadata": {},
   "outputs": [],
   "source": [
    "# for concise and efficient data processing\n",
    "squared = [x**2 for x in range(10)]\n",
    "print(squared)\n",
    "\n",
    "even_numbers = [x for x in range(10) if x % 2 == 0]\n",
    "print(even_numbers)"
   ]
  },
  {
   "cell_type": "markdown",
   "id": "bed46bb0-6100-4d0c-b63b-5f2be262a640",
   "metadata": {},
   "source": [
    "## 12. Exception handling"
   ]
  },
  {
   "cell_type": "code",
   "execution_count": null,
   "id": "17331fc6-5798-4d4b-a3cd-358d45dc923b",
   "metadata": {},
   "outputs": [],
   "source": [
    "try:\n",
    "    result = 10 / 0 # this will raise an exception\n",
    "except ZeroDivisionError as e:\n",
    "    print(f\"Error: {e}\")\n",
    "finally:\n",
    "    print(\"This block always runs.\")"
   ]
  },
  {
   "cell_type": "markdown",
   "id": "17e92514-a876-4b29-81f6-c87be87e1d56",
   "metadata": {},
   "source": [
    "## 13. Python Formatting guideline\n",
    "\n",
    "- Do not use Tabs for indentation. Use spaces. Jupyter notebook uses 4 spaces for indentation by default.\n",
    "- Add a space before and after binary operators, =, *, +, /, ==, etc. However, do not add space around = operator in function keyword arguments\n",
    "- Add two blank lines between top-level functions and class definition\n",
    "- Add one blank line between methods inside a class\n",
    "- Add one blank line between logically distinct sections of the code\n",
    "- Use triple double quotes for one-line or multi-line docstrings\n",
    "- For inline comment, add two spaces first."
   ]
  },
  {
   "cell_type": "code",
   "execution_count": null,
   "id": "57f4b422-ba94-4f6c-b3a6-74a0b3119154",
   "metadata": {},
   "outputs": [],
   "source": [
    "# Import necessary libraries\n",
    "import math\n",
    "import os\n",
    "from typing import List, Dict\n",
    "\n",
    "# Constants, use capital letters\n",
    "PI = math.pi\n",
    "FILE_PATH = \"example_data.txt\"\n",
    "\n",
    "# Top-level function definitions\n",
    "def calculate_area(radius: float) -> float:\n",
    "    \"\"\"Calculate the area of a circle given its radius.\"\"\"\n",
    "    if radius < 0:\n",
    "        raise ValueError(\"Radius cannot be negative.\")\n",
    "    return PI * radius ** 2\n",
    "\n",
    "\n",
    "def read_numbers_from_file(file_path: str) -> List[int]:\n",
    "    \"\"\"Read a list of integers from a file.\"\"\"\n",
    "    numbers = []\n",
    "    try:\n",
    "        with open(file_path, 'r') as file:\n",
    "            for line in file:\n",
    "                numbers.append(int(line.strip()))\n",
    "    except FileNotFoundError:\n",
    "        print(f\"File not found: {file_path}\")\n",
    "    except ValueError as e:\n",
    "        print(f\"Error reading numbers from file: {e}\")\n",
    "    return numbers\n",
    "\n",
    "\n",
    "def filter_even_numbers(numbers: List[int]) -> List[int]:\n",
    "    \"\"\"Filter and return even numbers from a list.\"\"\"\n",
    "    return [num for num in numbers if num % 2 == 0]\n",
    "\n",
    "\n",
    "# Class definitions\n",
    "class Circle:\n",
    "    \"\"\"A class representing a circle.\"\"\"\n",
    "\n",
    "    def __init__(self, radius: float):\n",
    "        if radius < 0:\n",
    "            raise ValueError(\"Radius cannot be negative.\")\n",
    "        self.radius = radius\n",
    "\n",
    "    def diameter(self) -> float:\n",
    "        \"\"\"Calculate the diameter of the circle.\"\"\"\n",
    "        return 2 * self.radius\n",
    "\n",
    "    def circumference(self) -> float:\n",
    "        \"\"\"Calculate the circumference of the circle.\"\"\"\n",
    "        return 2 * PI * self.radius\n",
    "\n",
    "    def area(self) -> float:\n",
    "        \"\"\"Calculate the area of the circle.\"\"\"\n",
    "        return calculate_area(self.radius)\n",
    "\n",
    "    def __repr__(self) -> str:\n",
    "        return f\"Circle(radius={self.radius})\"\n",
    "\n",
    "\n",
    "# Main function to demonstrate usage\n",
    "def main():\n",
    "    \"\"\"Main function to demonstrate Python components.\"\"\"\n",
    "    print(\"Welcome to the Python example program!\")\n",
    "    \n",
    "    # Demonstrate constants and function usage\n",
    "    print(f\"The value of PI is approximately {PI}.\")\n",
    "    radius = 5\n",
    "    print(f\"The area of a circle with radius {radius} is {calculate_area(radius)}.\")\n",
    "\n",
    "    # Demonstrate class usage\n",
    "    circle = Circle(radius)\n",
    "    print(f\"Created a {circle}.\")\n",
    "    print(f\"Diameter: {circle.diameter()}\")\n",
    "    print(f\"Circumference: {circle.circumference()}\")\n",
    "    print(f\"Area: {circle.area()}\")\n",
    "\n",
    "    # Demonstrate file handling and list comprehension\n",
    "    numbers = read_numbers_from_file(FILE_PATH)\n",
    "    if numbers:\n",
    "        print(f\"Numbers from file: {numbers}\")\n",
    "        even_numbers = filter_even_numbers(numbers)\n",
    "        print(f\"Even numbers: {even_numbers}\")\n",
    "\n",
    "    # Demonstrate loops and dictionaries\n",
    "    circle_properties: Dict[str, float] = {\n",
    "        \"radius\": circle.radius,\n",
    "        \"diameter\": circle.diameter(),\n",
    "        \"circumference\": circle.circumference(),\n",
    "        \"area\": circle.area(),\n",
    "    }\n",
    "    print(\"Circle properties:\")\n",
    "    for key, value in circle_properties.items():\n",
    "        print(f\"  {key.capitalize()}: {value:.2f}\")\n",
    "\n",
    "\n",
    "# Entry point for script execution\n",
    "if __name__ == \"__main__\":\n",
    "    main()\n"
   ]
  },
  {
   "cell_type": "code",
   "execution_count": null,
   "id": "cec5796f-cb6e-4ccb-a704-63ae96499778",
   "metadata": {},
   "outputs": [],
   "source": []
  }
 ],
 "metadata": {
  "kernelspec": {
   "display_name": "Python 3 (ipykernel)",
   "language": "python",
   "name": "python3"
  },
  "language_info": {
   "codemirror_mode": {
    "name": "ipython",
    "version": 3
   },
   "file_extension": ".py",
   "mimetype": "text/x-python",
   "name": "python",
   "nbconvert_exporter": "python",
   "pygments_lexer": "ipython3",
   "version": "3.11.8"
  }
 },
 "nbformat": 4,
 "nbformat_minor": 5
}
